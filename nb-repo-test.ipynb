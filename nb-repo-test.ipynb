{
  "nbformat": 4,
  "nbformat_minor": 0,
  "metadata": {
    "colab": {
      "name": "Python Questions - Shivansh Jain.ipynb",
      "provenance": []
    },
    "kernelspec": {
      "name": "python3",
      "display_name": "Python 3"
    },
    "language_info": {
      "name": "python"
    }
  },
  "cells": [
    {
      "cell_type": "markdown",
      "source": [
        "# Shivansh Jain | Python Basics Assignment\n",
        "\n"
      ],
      "metadata": {
        "id": "5p_fV-Yg_Ubd"
      }
    },
    {
      "cell_type": "markdown",
      "source": [
        "**1-Write a Python program to calculate the length of a string.**"
      ],
      "metadata": {
        "id": "D1u9qvcPly-z"
      }
    },
    {
      "cell_type": "code",
      "source": [
        "s = \"calculating length of a string\"\n",
        "\n",
        "# Method-1\n",
        "cnt=0\n",
        "for i in s:\n",
        "  cnt+=1\n",
        "print(\"Length of string using Method-1:\",cnt)\n",
        "\n",
        "# Method-2\n",
        "## using inbuilt len function\n",
        "print(\"Length of string using inbuilt function:\",len(s))\n"
      ],
      "metadata": {
        "colab": {
          "base_uri": "https://localhost:8080/"
        },
        "id": "yo0U52iaZBy8",
        "outputId": "9dfc64c0-a996-42ee-e574-92f111b15ef8"
      },
      "execution_count": null,
      "outputs": [
        {
          "output_type": "stream",
          "name": "stdout",
          "text": [
            "Length of string using Method-1: 30\n",
            "Length of string using inbuilt function: 30\n"
          ]
        }
      ]
    },
    {
      "cell_type": "markdown",
      "source": [
        "**2-Write a Python program to count the number of characters (character frequency) in a string.**"
      ],
      "metadata": {
        "id": "Q-Q5fSLzmPgl"
      }
    },
    {
      "cell_type": "code",
      "source": [
        "# calculating character frequency in string\n",
        "name = \"Shivansh Jain\"\n",
        "name = name.lower()   #convert string to lowercase\n",
        "ch_freq = {}  #dictionary to store character count\n",
        "\n",
        "for char in name:\n",
        "  if(char == ' '):  #not considering any spaces\n",
        "    continue\n",
        "  if(ch_freq.get(char) is None ):\n",
        "    ch_freq[char] = 1\n",
        "  else:\n",
        "    ch_freq[char] += 1;\n",
        "\n",
        "# print output \n",
        "for char, freq in ch_freq.items():\n",
        "  print(char,':',freq)"
      ],
      "metadata": {
        "colab": {
          "base_uri": "https://localhost:8080/"
        },
        "id": "uoPAS4QmZDTj",
        "outputId": "1b7e3632-05d8-4c88-f7cd-c3e6c3ef1304"
      },
      "execution_count": null,
      "outputs": [
        {
          "output_type": "stream",
          "name": "stdout",
          "text": [
            "s : 2\n",
            "h : 2\n",
            "i : 2\n",
            "v : 1\n",
            "a : 2\n",
            "n : 2\n",
            "j : 1\n"
          ]
        }
      ]
    },
    {
      "cell_type": "markdown",
      "source": [
        "**3-Write a Python program to get the largest number from a list.**"
      ],
      "metadata": {
        "id": "0Lz95Ujxl1pO"
      }
    },
    {
      "cell_type": "code",
      "source": [
        "l = [1, 5, 9, 0, 11, 3]\n",
        "print(\"Largest number in the list:\",l,\"is\")\n",
        "\n",
        "# Method-1\n",
        "## trivial approach\n",
        "maxi = l[0]\n",
        "for i in range(1, len(l)):\n",
        "  if(l[i] > maxi):\n",
        "    maxi = l[i]\n",
        "print(\"Method-1_Output:\" , maxi)\n",
        "\n",
        "# Method-2\n",
        "## using sort function\n",
        "l.sort(reverse=True)\n",
        "print(\"Method-2_Output:\" , l[0])\n",
        "\n",
        "#Method-3\n",
        "## using max function\n",
        "print(\"Method-3_Output:\" , max(l))"
      ],
      "metadata": {
        "colab": {
          "base_uri": "https://localhost:8080/"
        },
        "id": "-K5KnzTDZEFP",
        "outputId": "6c8f3a0a-65a2-44ae-ef9d-0e2b39cad31d"
      },
      "execution_count": null,
      "outputs": [
        {
          "output_type": "stream",
          "name": "stdout",
          "text": [
            "Largest number in the list: [1, 5, 9, 0, 11, 3] is\n",
            "Method-1_Output: 11\n",
            "Method-2_Output: 11\n",
            "Method-3_Output: 11\n"
          ]
        }
      ]
    },
    {
      "cell_type": "markdown",
      "source": [
        "**4-In Python 3, the maximum value for an integer is 263 - 1. True or False with explainations**"
      ],
      "metadata": {
        "id": "IAMAm_BJmxXc"
      }
    },
    {
      "cell_type": "markdown",
      "source": [
        "False. \n",
        "In Python 3, there is no limit to the maximum value for an integer. It can go upto the maximum available memory of the system"
      ],
      "metadata": {
        "id": "Ql1ArLc9ZGxX"
      }
    },
    {
      "cell_type": "markdown",
      "source": [
        "**5-How would you write the hexadecimal value a5 as a base-16 integer constant in Python?**"
      ],
      "metadata": {
        "id": "ijhLED3VnZkE"
      }
    },
    {
      "cell_type": "code",
      "source": [
        "base16 = 0xa5\n",
        "print(base16)\n",
        "type(base16)"
      ],
      "metadata": {
        "colab": {
          "base_uri": "https://localhost:8080/"
        },
        "id": "SVBzlAbFZc4r",
        "outputId": "2405bb5f-88bb-4066-f4b6-49c1425a88a3"
      },
      "execution_count": null,
      "outputs": [
        {
          "output_type": "stream",
          "name": "stdout",
          "text": [
            "165\n"
          ]
        },
        {
          "output_type": "execute_result",
          "data": {
            "text/plain": [
              "int"
            ]
          },
          "metadata": {},
          "execution_count": 49
        }
      ]
    },
    {
      "cell_type": "markdown",
      "source": [
        "**6-How would you express the constant floating-point value 3.2 × 10-12 in Python**"
      ],
      "metadata": {
        "id": "RWeWiUVxnq8D"
      }
    },
    {
      "cell_type": "code",
      "source": [
        "float_value = 3.2e-12\n",
        "print(float_value)\n",
        "type(float_value)"
      ],
      "metadata": {
        "colab": {
          "base_uri": "https://localhost:8080/"
        },
        "id": "LaIVEOAFZb_Q",
        "outputId": "f988b2c4-aae2-4d0f-8ad4-8e143615544e"
      },
      "execution_count": null,
      "outputs": [
        {
          "output_type": "stream",
          "name": "stdout",
          "text": [
            "3.2e-12\n"
          ]
        },
        {
          "output_type": "execute_result",
          "data": {
            "text/plain": [
              "float"
            ]
          },
          "metadata": {},
          "execution_count": 50
        }
      ]
    },
    {
      "cell_type": "markdown",
      "source": [
        "**7-Please write are valid ways to specify the string literal Hello'World in Python**"
      ],
      "metadata": {
        "id": "r-E8ExAIn01i"
      }
    },
    {
      "cell_type": "code",
      "source": [
        "way_1 = \"Hello'World\"\n",
        "way_2 = 'Hello\\'World'\n",
        "print(way_1)\n",
        "print(way_2)"
      ],
      "metadata": {
        "colab": {
          "base_uri": "https://localhost:8080/"
        },
        "id": "IrgIfI4EZNKj",
        "outputId": "3d40418b-e796-4363-c8f2-283089f35afb"
      },
      "execution_count": null,
      "outputs": [
        {
          "output_type": "stream",
          "name": "stdout",
          "text": [
            "Hello'World\n",
            "Hello'World\n"
          ]
        }
      ]
    },
    {
      "cell_type": "markdown",
      "source": [
        "**8-Which of the following is the correct REPL output?**\n",
        "\n",
        "print(r'foo\\\\bar\\nbaz')"
      ],
      "metadata": {
        "id": "TzuX5cZhogWt"
      }
    },
    {
      "cell_type": "markdown",
      "source": [
        "foo\\bar\\nbaz"
      ],
      "metadata": {
        "id": "FfMMmUCWZQMP"
      }
    },
    {
      "cell_type": "markdown",
      "source": [
        "**9-Find the data type of a if a=(100)**"
      ],
      "metadata": {
        "id": "1W2Zr0yqo6aI"
      }
    },
    {
      "cell_type": "code",
      "source": [
        "#  datatype is int\n",
        "a=(100)\n",
        "print(type(a))"
      ],
      "metadata": {
        "colab": {
          "base_uri": "https://localhost:8080/"
        },
        "id": "cUnRHBkBZTS2",
        "outputId": "6d019315-e869-4c06-a14e-0896fbe71d3c"
      },
      "execution_count": null,
      "outputs": [
        {
          "output_type": "stream",
          "name": "stdout",
          "text": [
            "<class 'int'>\n"
          ]
        }
      ]
    },
    {
      "cell_type": "markdown",
      "source": [
        "**10-Find the data type of a if a=(1,2,3)**"
      ],
      "metadata": {
        "id": "aFzFE8jipBDa"
      }
    },
    {
      "cell_type": "code",
      "source": [
        "# datatype is tuple\n",
        "a=(1,2,3)\n",
        "print(type(a))"
      ],
      "metadata": {
        "colab": {
          "base_uri": "https://localhost:8080/"
        },
        "id": "J1gK03lxZUSK",
        "outputId": "963b9bde-48eb-4d60-aade-8f976f96ee28"
      },
      "execution_count": null,
      "outputs": [
        {
          "output_type": "stream",
          "name": "stdout",
          "text": [
            "<class 'tuple'>\n"
          ]
        }
      ]
    },
    {
      "cell_type": "markdown",
      "source": [
        "**11-Pull out the letter W from word**"
      ],
      "metadata": {
        "id": "R0fKzsBPpUYx"
      }
    },
    {
      "cell_type": "code",
      "source": [
        "s=\"Word\"\n",
        "print(s[0:1])"
      ],
      "metadata": {
        "colab": {
          "base_uri": "https://localhost:8080/"
        },
        "id": "K0IJ96XYZVMn",
        "outputId": "7eac475e-b1c7-413e-ee86-630d4d2f373f"
      },
      "execution_count": null,
      "outputs": [
        {
          "output_type": "stream",
          "name": "stdout",
          "text": [
            "W\n"
          ]
        }
      ]
    },
    {
      "cell_type": "markdown",
      "source": [
        "**12-Convert the string Problem to the list ['P','r','o','b','l','e','m'] without writing the list from scratch?**"
      ],
      "metadata": {
        "id": "QEPctJAcp_nc"
      }
    },
    {
      "cell_type": "code",
      "source": [
        "s = \"Problem\"\n",
        "ans = [s[i:i+1] for i in range(len(s))]    \n",
        "print (ans)                     "
      ],
      "metadata": {
        "colab": {
          "base_uri": "https://localhost:8080/"
        },
        "id": "eixpyf1JZY6y",
        "outputId": "b46ce11e-a837-442a-953b-ce054372b04f"
      },
      "execution_count": null,
      "outputs": [
        {
          "output_type": "stream",
          "name": "stdout",
          "text": [
            "['P', 'r', 'o', 'b', 'l', 'e', 'm']\n"
          ]
        }
      ]
    }
  ]
}